{
 "cells": [
  {
   "cell_type": "markdown",
   "id": "6f5ae18f",
   "metadata": {},
   "source": [
    "# Bibliotecas"
   ]
  },
  {
   "cell_type": "code",
   "execution_count": 5,
   "id": "29b39793",
   "metadata": {},
   "outputs": [],
   "source": [
    "import requests\n",
    "import json\n",
    "import pandas as pd\n",
    "import pyarrow\n",
    "from time import sleep, time\n",
    "import datetime\n",
    "from multiprocessing.pool import ThreadPool"
   ]
  },
  {
   "cell_type": "markdown",
   "id": "dbcb4565",
   "metadata": {},
   "source": [
    "# Requisição API"
   ]
  },
  {
   "cell_type": "code",
   "execution_count": 6,
   "id": "1fc90426",
   "metadata": {},
   "outputs": [],
   "source": [
    "jql_str =''' \n",
    "            Status != Cancelado\n",
    "            AND issuetype in (bug,story,\"tech value\",toil, opportunity,Hypothesis)\n",
    "            AND created >= 2022-06-01 AND created <= -0d\n",
    "            AND category in (\"BU_ZAP+\",BU_OLX,CROSS)\n",
    "            order by created DESC'''"
   ]
  },
  {
   "cell_type": "code",
   "execution_count": 7,
   "id": "32fc90e8",
   "metadata": {},
   "outputs": [],
   "source": [
    "start = time()"
   ]
  },
  {
   "cell_type": "code",
   "execution_count": 8,
   "id": "94652ddb",
   "metadata": {},
   "outputs": [],
   "source": [
    "from jira import JIRA\n",
    "import pandas as pd\n",
    "import numpy as np\n",
    "\n",
    "jiraOptions = {'server': \"https://olxbr.atlassian.net\"}\n",
    "  \n",
    "jira = JIRA(options=jiraOptions, basic_auth=(\n",
    "    \"Your company mail\", \"Your key to acess Jira's API\"))\n",
    "\n",
    "data = jira.search_issues(jql_str=jql_str,maxResults = False, json_result=False)\n",
    "# list_issues = data['issues']"
   ]
  },
  {
   "cell_type": "code",
   "execution_count": 9,
   "id": "03a36dd8",
   "metadata": {},
   "outputs": [
    {
     "name": "stdout",
     "output_type": "stream",
     "text": [
      "Tempo de espera: 4 minutos\n"
     ]
    }
   ],
   "source": [
    "end = time()\n",
    "total_time = end-start\n",
    "print(f'Tempo de espera: {round(total_time/60)} minutos')"
   ]
  },
  {
   "cell_type": "markdown",
   "id": "dd20896b",
   "metadata": {},
   "source": [
    "# Função "
   ]
  },
  {
   "cell_type": "code",
   "execution_count": 10,
   "id": "ef892a2a",
   "metadata": {},
   "outputs": [],
   "source": [
    "from joblib import Parallel, delayed\n",
    "\n",
    "\n",
    "def get_issue(issue):\n",
    "    issues = []\n",
    "    issues.append(issue.id + \";\" \n",
    "                   + issue.fields.status.name + \";\"\n",
    "                   + issue.key + \";\"\n",
    "#                    + issue.fields.creator.displayName + \";\"\n",
    "                   + issue.fields.created + \";\"\n",
    "                   + str(issue.fields.resolutiondate) + \";\"\n",
    "                   + issue.fields.issuetype.name + \";\"\n",
    "                   + issue.fields.project.name + \";\"\n",
    "                   + issue.fields.project.key)\n",
    "    return issues\n",
    "\n",
    "total_issues = Parallel(n_jobs=3)(delayed(get_issue)(issue,) for issue in data)"
   ]
  },
  {
   "cell_type": "markdown",
   "id": "2477cc85",
   "metadata": {},
   "source": [
    "#### Desempacote das listas"
   ]
  },
  {
   "cell_type": "code",
   "execution_count": 11,
   "id": "99d5e9c6",
   "metadata": {},
   "outputs": [],
   "source": [
    "issues = ['issue_id;issue_status;issue_key;created_date;resolution_date;issue_type;name_project;key_project']\n",
    "for n in range(len(total_issues)):\n",
    "    issues.append(total_issues[n][0])"
   ]
  },
  {
   "cell_type": "code",
   "execution_count": 12,
   "id": "df912003",
   "metadata": {},
   "outputs": [],
   "source": [
    "textfile = open(\"dados_jira.txt\", \"w\",encoding='utf-8')\n",
    "for element in issues:\n",
    "    textfile. write(element + \"\\n\")\n",
    "textfile.close()"
   ]
  },
  {
   "cell_type": "code",
   "execution_count": 13,
   "id": "43320a92",
   "metadata": {},
   "outputs": [],
   "source": [
    "df = pd.read_csv('dados_jira.txt',sep=\";\")"
   ]
  },
  {
   "cell_type": "code",
   "execution_count": 14,
   "id": "0afbd44f",
   "metadata": {},
   "outputs": [
    {
     "name": "stdout",
     "output_type": "stream",
     "text": [
      "<class 'pandas.core.frame.DataFrame'>\n",
      "RangeIndex: 3755 entries, 0 to 3754\n",
      "Data columns (total 8 columns):\n",
      " #   Column           Non-Null Count  Dtype \n",
      "---  ------           --------------  ----- \n",
      " 0   issue_id         3755 non-null   int64 \n",
      " 1   issue_status     3755 non-null   object\n",
      " 2   issue_key        3755 non-null   object\n",
      " 3   created_date     3755 non-null   object\n",
      " 4   resolution_date  3755 non-null   object\n",
      " 5   issue_type       3755 non-null   object\n",
      " 6   name_project     3755 non-null   object\n",
      " 7   key_project      3755 non-null   object\n",
      "dtypes: int64(1), object(7)\n",
      "memory usage: 234.8+ KB\n"
     ]
    }
   ],
   "source": [
    "df.info()"
   ]
  },
  {
   "cell_type": "code",
   "execution_count": 16,
   "id": "17913687",
   "metadata": {},
   "outputs": [],
   "source": [
    "df['created_date'] = pd.to_datetime(df['created_date']).dt.date"
   ]
  },
  {
   "cell_type": "code",
   "execution_count": 18,
   "id": "b06aa44d",
   "metadata": {},
   "outputs": [],
   "source": [
    "df.to_csv('jira_issue.csv',index=False)"
   ]
  },
  {
   "cell_type": "code",
   "execution_count": 17,
   "id": "52240a79",
   "metadata": {},
   "outputs": [
    {
     "data": {
      "text/html": [
       "<div>\n",
       "<style scoped>\n",
       "    .dataframe tbody tr th:only-of-type {\n",
       "        vertical-align: middle;\n",
       "    }\n",
       "\n",
       "    .dataframe tbody tr th {\n",
       "        vertical-align: top;\n",
       "    }\n",
       "\n",
       "    .dataframe thead th {\n",
       "        text-align: right;\n",
       "    }\n",
       "</style>\n",
       "<table border=\"1\" class=\"dataframe\">\n",
       "  <thead>\n",
       "    <tr style=\"text-align: right;\">\n",
       "      <th></th>\n",
       "      <th>issue_id</th>\n",
       "      <th>issue_status</th>\n",
       "      <th>issue_key</th>\n",
       "      <th>created_date</th>\n",
       "      <th>resolution_date</th>\n",
       "      <th>issue_type</th>\n",
       "      <th>name_project</th>\n",
       "      <th>key_project</th>\n",
       "    </tr>\n",
       "  </thead>\n",
       "  <tbody>\n",
       "    <tr>\n",
       "      <th>0</th>\n",
       "      <td>129363</td>\n",
       "      <td>Inbox</td>\n",
       "      <td>ANV-1748</td>\n",
       "      <td>2022-07-18</td>\n",
       "      <td>None</td>\n",
       "      <td>Bug</td>\n",
       "      <td>ANAPRO</td>\n",
       "      <td>ANV</td>\n",
       "    </tr>\n",
       "    <tr>\n",
       "      <th>1</th>\n",
       "      <td>129362</td>\n",
       "      <td>Progress</td>\n",
       "      <td>VASP-193</td>\n",
       "      <td>2022-07-18</td>\n",
       "      <td>None</td>\n",
       "      <td>Hypothesis</td>\n",
       "      <td>VAS Premium</td>\n",
       "      <td>VASP</td>\n",
       "    </tr>\n",
       "    <tr>\n",
       "      <th>2</th>\n",
       "      <td>129361</td>\n",
       "      <td>Em andamento</td>\n",
       "      <td>OBS-564</td>\n",
       "      <td>2022-07-18</td>\n",
       "      <td>None</td>\n",
       "      <td>Tech Value</td>\n",
       "      <td>Observability</td>\n",
       "      <td>OBS</td>\n",
       "    </tr>\n",
       "  </tbody>\n",
       "</table>\n",
       "</div>"
      ],
      "text/plain": [
       "   issue_id  issue_status issue_key created_date resolution_date  issue_type  \\\n",
       "0    129363         Inbox  ANV-1748   2022-07-18            None         Bug   \n",
       "1    129362      Progress  VASP-193   2022-07-18            None  Hypothesis   \n",
       "2    129361  Em andamento   OBS-564   2022-07-18            None  Tech Value   \n",
       "\n",
       "    name_project key_project  \n",
       "0         ANAPRO         ANV  \n",
       "1    VAS Premium        VASP  \n",
       "2  Observability         OBS  "
      ]
     },
     "execution_count": 17,
     "metadata": {},
     "output_type": "execute_result"
    }
   ],
   "source": [
    "df.head(3)"
   ]
  },
  {
   "cell_type": "markdown",
   "id": "d29d7854",
   "metadata": {},
   "source": [
    "## Email's"
   ]
  },
  {
   "cell_type": "markdown",
   "id": "439b5863",
   "metadata": {},
   "source": [
    "#Gerando Arquivo .CSV\n",
    "\n",
    "def get_email(issue):\n",
    "    email = []\n",
    "    try:\n",
    "        email.append(issue.id + \";\" + issue.fields.creator.emailAddress)\n",
    "\n",
    "    except Exception:\n",
    "        email.append(issue.id + \";Undefined\")\n",
    "    return email\n",
    "\n",
    "total_email = Parallel(n_jobs=3)(delayed(get_email)(issue,) for issue in data)\n",
    "        "
   ]
  },
  {
   "cell_type": "markdown",
   "id": "804c96a1",
   "metadata": {},
   "source": [
    "# Desempacote das listas\n",
    "email = ['Issue_id;Email']\n",
    "for n in range(len(total_email)):\n",
    "    email.append(total_email[n][0])"
   ]
  },
  {
   "cell_type": "markdown",
   "id": "3bf7e1b7",
   "metadata": {},
   "source": [
    "#Salvar os dados em um arquivo txt para facilitar a quebra em ; de cada coluna\n",
    "textfile = open(\"dados_email.txt\", \"w\",encoding='utf-8')\n",
    "for element in email:\n",
    "    textfile. write(element + \"\\n\")\n",
    "textfile.close()"
   ]
  },
  {
   "cell_type": "markdown",
   "id": "653ffa49",
   "metadata": {},
   "source": [
    "df_email = pd.read_csv('dados_email.txt',sep=\";\")"
   ]
  },
  {
   "cell_type": "markdown",
   "id": "fabba4db",
   "metadata": {},
   "source": [
    "df = pd.merge(df, df_email,how = 'left', on = 'Issue_id')"
   ]
  },
  {
   "cell_type": "markdown",
   "id": "50c48ae2",
   "metadata": {},
   "source": [
    "## BU's\n",
    "\n",
    "Para extrair as BU's ou Categorias de serviço das issues, é necessário que se faça de forma separada para ignorar o laço quando essa categoria estiver nula(por conta que alguns times não cadastraram a categoria)"
   ]
  },
  {
   "cell_type": "code",
   "execution_count": null,
   "id": "ab2a63a2",
   "metadata": {},
   "outputs": [],
   "source": [
    "#Gerando Arquivo .CSV\n",
    "\n",
    "def get_bu(issue):\n",
    "    BU = []\n",
    "    try:\n",
    "        BU.append(issue.id + \";\" + issue.fields.project.projectCategory.name)\n",
    "\n",
    "    except Exception:\n",
    "        BU.append(issue.id + \";Undefined\")\n",
    "    return BU\n",
    "\n",
    "total_BU = Parallel(n_jobs=3)(delayed(get_bu)(issue,) for issue in data)\n",
    "        "
   ]
  },
  {
   "cell_type": "code",
   "execution_count": null,
   "id": "b4a24654",
   "metadata": {},
   "outputs": [],
   "source": [
    "df.info()"
   ]
  },
  {
   "cell_type": "code",
   "execution_count": null,
   "id": "d29b67a2",
   "metadata": {},
   "outputs": [],
   "source": [
    "# Desempacote das listas\n",
    "BU = ['issue_id;bu']\n",
    "for n in range(len(total_BU)):\n",
    "    BU.append(total_BU[n][0])"
   ]
  },
  {
   "cell_type": "code",
   "execution_count": null,
   "id": "f41ad57d",
   "metadata": {},
   "outputs": [],
   "source": [
    "#Salvar os dados em um arquivo txt para facilitar a quebra em ; de cada coluna\n",
    "textfile = open(\"dados_bu.txt\", \"w\",encoding='utf-8')\n",
    "for element in BU:\n",
    "    textfile. write(element + \"\\n\")\n",
    "textfile.close()"
   ]
  },
  {
   "cell_type": "code",
   "execution_count": null,
   "id": "c0a92054",
   "metadata": {},
   "outputs": [],
   "source": [
    "df_bu = pd.read_csv('dados_bu.txt',sep=\";\")"
   ]
  },
  {
   "cell_type": "code",
   "execution_count": null,
   "id": "9e19b06d",
   "metadata": {},
   "outputs": [],
   "source": [
    "df = pd.merge(df, df_bu,how = 'left', on = 'issue_id')"
   ]
  },
  {
   "cell_type": "code",
   "execution_count": null,
   "id": "f3acab4f",
   "metadata": {},
   "outputs": [],
   "source": [
    "df.head()"
   ]
  },
  {
   "cell_type": "markdown",
   "id": "5f072ed8",
   "metadata": {},
   "source": [
    "## Prioridades das issues"
   ]
  },
  {
   "cell_type": "markdown",
   "id": "b0bd8bb6",
   "metadata": {},
   "source": [
    "Para extrair as prioridades das issues, é necessário que se faça de forma separada para ignorar o laço quando essa categoria estiver nula (por conta que alguns times não cadastraram a categoria)"
   ]
  },
  {
   "cell_type": "code",
   "execution_count": null,
   "id": "959511b0",
   "metadata": {},
   "outputs": [],
   "source": [
    "#Gerando Arquivo .CSV\n",
    "\n",
    "def get_prioridade(issue):\n",
    "    prioridade = []\n",
    "    try:\n",
    "        prioridade.append(issue.id + \";\" + issue.fields.priority.name)\n",
    "\n",
    "    except Exception:\n",
    "        prioridade.append(issue.id + \";Undefined\")\n",
    "    return prioridade\n",
    "\n",
    "total_prioridade = Parallel(n_jobs=3)(delayed(get_prioridade)(issue,) for issue in data)"
   ]
  },
  {
   "cell_type": "code",
   "execution_count": null,
   "id": "6c9c1f87",
   "metadata": {},
   "outputs": [],
   "source": [
    "# Desempacote das listas\n",
    "prioridade = ['issue_id;priority']\n",
    "for n in range(len(total_prioridade)):\n",
    "    prioridade.append(total_prioridade[n][0])"
   ]
  },
  {
   "cell_type": "code",
   "execution_count": null,
   "id": "cee3489f",
   "metadata": {},
   "outputs": [],
   "source": [
    "#Salvar os dados em um arquivo txt para facilitar a quebra em ; de cada coluna\n",
    "textfile = open(\"dados_prioridade.txt\", \"w\",encoding='utf-8')\n",
    "for element in prioridade:\n",
    "    textfile. write(element + \"\\n\")\n",
    "textfile.close()"
   ]
  },
  {
   "cell_type": "code",
   "execution_count": null,
   "id": "571f7d2f",
   "metadata": {},
   "outputs": [],
   "source": [
    "df_prioridade = pd.read_csv('dados_prioridade.txt',sep=\";\")"
   ]
  },
  {
   "cell_type": "code",
   "execution_count": null,
   "id": "bbc70ccd",
   "metadata": {},
   "outputs": [],
   "source": [
    "df = pd.merge(df, df_prioridade,how = 'left', on = 'issue_id')"
   ]
  },
  {
   "cell_type": "markdown",
   "id": "a21bb8f3",
   "metadata": {},
   "source": [
    "# Resolution\n",
    "Para extrair o resolution das issues, é necessário que se faça de forma separada para ignorar o laço quando essa categoria estiver nula (por conta que alguns times não cadastraram a categoria)"
   ]
  },
  {
   "cell_type": "code",
   "execution_count": null,
   "id": "167c9875",
   "metadata": {},
   "outputs": [],
   "source": [
    "#Gerando Arquivo .CSV\n",
    "\n",
    "def get_resolution(issue):\n",
    "    resolution = []\n",
    "    try:\n",
    "        resolution.append(issue.id + \";\" + issue.fields.resolution.name)\n",
    "\n",
    "    except Exception:\n",
    "        resolution.append(issue.id + \";Undefined\")\n",
    "    return resolution\n",
    "\n",
    "total_resolution = Parallel(n_jobs=3)(delayed(get_resolution)(issue,) for issue in data)"
   ]
  },
  {
   "cell_type": "code",
   "execution_count": null,
   "id": "556e9d0d",
   "metadata": {},
   "outputs": [],
   "source": [
    "# Desempacote das listas\n",
    "resolution = ['issue_id;resolution']\n",
    "for n in range(len(total_resolution)):\n",
    "    resolution.append(total_resolution[n][0])"
   ]
  },
  {
   "cell_type": "code",
   "execution_count": null,
   "id": "67310066",
   "metadata": {},
   "outputs": [],
   "source": [
    "#Salvar os dados em um arquivo txt para facilitar a quebra em ; de cada coluna\n",
    "textfile = open(\"dados_resolution.txt\", \"w\",encoding='utf-8')\n",
    "for element in resolution:\n",
    "    textfile. write(element + \"\\n\")\n",
    "textfile.close()"
   ]
  },
  {
   "cell_type": "code",
   "execution_count": null,
   "id": "e0bee344",
   "metadata": {},
   "outputs": [],
   "source": [
    "df_resolution = pd.read_csv('dados_resolution.txt',sep=\";\")"
   ]
  },
  {
   "cell_type": "code",
   "execution_count": null,
   "id": "7832d830",
   "metadata": {},
   "outputs": [],
   "source": [
    "df = pd.merge(df, df_resolution,how = 'left', on = 'issue_id')"
   ]
  },
  {
   "cell_type": "code",
   "execution_count": null,
   "id": "771d7844",
   "metadata": {},
   "outputs": [],
   "source": [
    "df.head()"
   ]
  },
  {
   "cell_type": "code",
   "execution_count": null,
   "id": "419e7fa7",
   "metadata": {},
   "outputs": [],
   "source": [
    "df.info()"
   ]
  },
  {
   "cell_type": "markdown",
   "id": "5365b342",
   "metadata": {},
   "source": [
    "# Labels\n",
    "Para extrair o Labels das issues, é necessário que se faça de forma separada para ignorar o laço quando este campo estiver nulo."
   ]
  },
  {
   "cell_type": "code",
   "execution_count": null,
   "id": "4bd1859c",
   "metadata": {},
   "outputs": [],
   "source": [
    "#Gerando Arquivo .CSV\n",
    "\n",
    "def get_labels(issue):\n",
    "    labels = []\n",
    "    id_labels = []\n",
    "    try:\n",
    "        labels.append(issue.fields.labels)\n",
    "        id_labels.append(issue.id)\n",
    "    except Exception:\n",
    "        labels.append(issue.id + \";Undefined\")\n",
    "    \n",
    "    #Junção de id's e labels    \n",
    "    lista_bruta = list(zip(id_labels, labels))\n",
    "    \n",
    "    return lista_bruta\n",
    "\n",
    "total_labels = Parallel(n_jobs=3)(delayed(get_labels)(issue,) for issue in data)"
   ]
  },
  {
   "cell_type": "code",
   "execution_count": null,
   "id": "a0e0efbf",
   "metadata": {},
   "outputs": [],
   "source": [
    "total_labels[:1]"
   ]
  },
  {
   "cell_type": "code",
   "execution_count": null,
   "id": "3247a732",
   "metadata": {},
   "outputs": [],
   "source": [
    "new_label= []\n",
    "new_id = []\n",
    "labels = str()\n",
    "for n in range(len(total_labels)):\n",
    "    if len(total_labels[n][0][1]) > 0:\n",
    "        new_id.append(total_labels[n][0][0])\n",
    "        for c in range(len(total_labels[n][0][1])):\n",
    "            labels += total_labels[n][0][1][c] + ','\n",
    "        new_label.append(labels[:-1])\n",
    "        labels = str()\n",
    "\n",
    "lista_final = list(zip(new_id, new_label))"
   ]
  },
  {
   "cell_type": "code",
   "execution_count": null,
   "id": "a9b25cab",
   "metadata": {},
   "outputs": [],
   "source": [
    "df_labels = pd.DataFrame(lista_final, columns=['issue_id','labels'])\n",
    "df_labels['issue_id'] = df_labels['issue_id'].values.astype(int)"
   ]
  },
  {
   "cell_type": "code",
   "execution_count": null,
   "id": "9ab2775c",
   "metadata": {},
   "outputs": [],
   "source": [
    "df = pd.merge(df, df_labels,how = 'left', on = 'issue_id')"
   ]
  },
  {
   "cell_type": "code",
   "execution_count": null,
   "id": "75241091",
   "metadata": {},
   "outputs": [],
   "source": [
    "df.head(2)"
   ]
  },
  {
   "cell_type": "markdown",
   "id": "151f6c60",
   "metadata": {},
   "source": [
    "# Linked issues\n",
    "Para extrair os links das issues que são derivadas de outras, é necessário que se faça de forma separada para ignorar o laço quando esse link não existir"
   ]
  },
  {
   "cell_type": "code",
   "execution_count": null,
   "id": "c5bbb1bc",
   "metadata": {},
   "outputs": [],
   "source": [
    "df_links = pd.read_csv('links.csv')"
   ]
  },
  {
   "cell_type": "code",
   "execution_count": null,
   "id": "45035609",
   "metadata": {},
   "outputs": [],
   "source": [
    "df_links.rename(columns={'issue_Id':'issue_id'},inplace=True)"
   ]
  },
  {
   "cell_type": "code",
   "execution_count": null,
   "id": "7f4f26e1",
   "metadata": {},
   "outputs": [],
   "source": [
    "df = pd.merge(df, df_links,how = 'left', on = 'issue_id')"
   ]
  },
  {
   "cell_type": "markdown",
   "id": "58b260d4",
   "metadata": {},
   "source": [
    "# Parent ID\n",
    "Para extrair os ID's das issues que são derivadas de outras, é necessário que se faça de forma separada para ignorar o laço quando esse ID não existir (por conta que algumas issues são Head/Parent)"
   ]
  },
  {
   "cell_type": "code",
   "execution_count": null,
   "id": "2dc7fd38",
   "metadata": {},
   "outputs": [],
   "source": [
    "def get_parents(issue):\n",
    "    issues_parents = []\n",
    "    try:\n",
    "        issues_parents.append(issue.id + \";\"\n",
    "                              + str(issue.fields.parent.id))\n",
    "                              \n",
    "    except Exception:\n",
    "        pass\n",
    "    return issues_parents\n",
    "\n",
    "total_parents = Parallel(n_jobs=3)(delayed(get_parents)(issue,) for issue in data)"
   ]
  },
  {
   "cell_type": "code",
   "execution_count": null,
   "id": "0e4fe5ac",
   "metadata": {},
   "outputs": [],
   "source": [
    "len(total_parents)"
   ]
  },
  {
   "cell_type": "code",
   "execution_count": null,
   "id": "9be6c8ba",
   "metadata": {},
   "outputs": [],
   "source": [
    "# Desempacote das listas\n",
    "issues_parents = ['issue_id;parent_id']\n",
    "for n in range(len(total_parents)):\n",
    "    if len(total_parents[n]) > 0:\n",
    "        issues_parents.append(total_parents[n][0])\n",
    "    else:\n",
    "        pass"
   ]
  },
  {
   "cell_type": "code",
   "execution_count": null,
   "id": "391d36ce",
   "metadata": {},
   "outputs": [],
   "source": [
    "#Salvar os dados em um arquivo txt para facilitar a quebra em ; de cada coluna\n",
    "textfile = open(\"dados_parent_id.txt\", \"w\",encoding='utf-8')\n",
    "for element in issues_parents:\n",
    "    textfile. write(element + \"\\n\")\n",
    "textfile.close()"
   ]
  },
  {
   "cell_type": "code",
   "execution_count": null,
   "id": "2fc7376c",
   "metadata": {},
   "outputs": [],
   "source": [
    "df_parent = pd.read_csv('dados_parent_id.txt',sep=\";\")"
   ]
  },
  {
   "cell_type": "code",
   "execution_count": null,
   "id": "515b2040",
   "metadata": {},
   "outputs": [],
   "source": [
    "df = pd.merge(df, df_parent,how = 'left', on = 'issue_id')"
   ]
  },
  {
   "cell_type": "code",
   "execution_count": null,
   "id": "35271eec",
   "metadata": {},
   "outputs": [],
   "source": [
    "df['parent_id'].fillna('0',inplace=True)"
   ]
  },
  {
   "cell_type": "code",
   "execution_count": null,
   "id": "c2b190ae-e848-43cd-806f-874ce105c759",
   "metadata": {},
   "outputs": [],
   "source": [
    "df['parent_id'] = df['parent_id'].astype(int)"
   ]
  },
  {
   "cell_type": "markdown",
   "id": "801f23c4",
   "metadata": {},
   "source": [
    "# Junção das datas de Change Category\n",
    "Data Frame receberá importação de outro notebook onde foi coletado informações \"datetime\" de mundanças de categorias das issues durante os seus processos"
   ]
  },
  {
   "cell_type": "code",
   "execution_count": null,
   "id": "f61fa87f",
   "metadata": {},
   "outputs": [],
   "source": [
    "cycle_time = pd.read_csv('cycle_time.csv')"
   ]
  },
  {
   "cell_type": "code",
   "execution_count": null,
   "id": "13df4b08",
   "metadata": {},
   "outputs": [],
   "source": [
    "df = pd.merge(df, cycle_time,how = 'left', on = 'issue_key')"
   ]
  },
  {
   "cell_type": "code",
   "execution_count": null,
   "id": "5ea3d984",
   "metadata": {},
   "outputs": [],
   "source": [
    "df.head()"
   ]
  },
  {
   "cell_type": "markdown",
   "id": "f552ed7f",
   "metadata": {},
   "source": [
    "Conversões de dados"
   ]
  },
  {
   "cell_type": "code",
   "execution_count": null,
   "id": "9560a1b4",
   "metadata": {},
   "outputs": [],
   "source": [
    "df['resolution_date'].replace('None','',inplace=True)"
   ]
  },
  {
   "cell_type": "code",
   "execution_count": null,
   "id": "94f52b6d",
   "metadata": {},
   "outputs": [],
   "source": [
    "df['created_date'] = pd.to_datetime(df['created_date']).dt.date\n",
    "df['resolution_date'] = pd.to_datetime(df['resolution_date']).dt.date\n",
    "df['selected_for_discovery'] = pd.to_datetime(df['selected_for_discovery']).dt.date\n",
    "df['discovery_done'] = pd.to_datetime(df['discovery_done']).dt.date\n",
    "df['in_progress'] = pd.to_datetime(df['in_progress']).dt.date\n",
    "df['done'] = pd.to_datetime(df['done']).dt.date\n",
    "dt = datetime.date.today()\n",
    "df['dt'] = dt"
   ]
  },
  {
   "cell_type": "markdown",
   "id": "a860ecea",
   "metadata": {},
   "source": [
    "import pandas as pd\n",
    "import numpy as np\n",
    "df = pd.read_csv('datalake.csv')"
   ]
  },
  {
   "cell_type": "markdown",
   "id": "2b76decb",
   "metadata": {},
   "source": [
    "df = df[df['resolution_date'].notnull()]"
   ]
  },
  {
   "cell_type": "code",
   "execution_count": 55,
   "id": "9d25768e-9d00-4df6-bd0e-150b921b9053",
   "metadata": {},
   "outputs": [],
   "source": [
    "df.drop(columns=['key_project'],inplace=True)"
   ]
  },
  {
   "cell_type": "code",
   "execution_count": 56,
   "id": "36af9178-4e32-4766-b26b-089e86609f9b",
   "metadata": {},
   "outputs": [
    {
     "name": "stdout",
     "output_type": "stream",
     "text": [
      "<class 'pandas.core.frame.DataFrame'>\n",
      "Int64Index: 737 entries, 0 to 736\n",
      "Data columns (total 18 columns):\n",
      " #   Column                  Non-Null Count  Dtype         \n",
      "---  ------                  --------------  -----         \n",
      " 0   issue_id                737 non-null    int64         \n",
      " 1   issue_status            737 non-null    object        \n",
      " 2   issue_key               737 non-null    object        \n",
      " 3   created_date            737 non-null    object        \n",
      " 4   resolution_date         183 non-null    object        \n",
      " 5   issue_type              737 non-null    object        \n",
      " 6   name_project            737 non-null    object        \n",
      " 7   bu                      737 non-null    object        \n",
      " 8   priority                737 non-null    object        \n",
      " 9   resolution              737 non-null    object        \n",
      " 10  labels                  163 non-null    object        \n",
      " 11  links                   0 non-null      object        \n",
      " 12  parent_id               737 non-null    int32         \n",
      " 13  selected_for_discovery  0 non-null      datetime64[ns]\n",
      " 14  discovery_done          0 non-null      datetime64[ns]\n",
      " 15  in_progress             0 non-null      datetime64[ns]\n",
      " 16  done                    0 non-null      datetime64[ns]\n",
      " 17  dt                      737 non-null    object        \n",
      "dtypes: datetime64[ns](4), int32(1), int64(1), object(12)\n",
      "memory usage: 106.5+ KB\n"
     ]
    }
   ],
   "source": [
    "df.info()"
   ]
  },
  {
   "cell_type": "code",
   "execution_count": 57,
   "id": "b05cca17-6718-4617-adb9-84ed01108791",
   "metadata": {},
   "outputs": [
    {
     "data": {
      "text/html": [
       "<div>\n",
       "<style scoped>\n",
       "    .dataframe tbody tr th:only-of-type {\n",
       "        vertical-align: middle;\n",
       "    }\n",
       "\n",
       "    .dataframe tbody tr th {\n",
       "        vertical-align: top;\n",
       "    }\n",
       "\n",
       "    .dataframe thead th {\n",
       "        text-align: right;\n",
       "    }\n",
       "</style>\n",
       "<table border=\"1\" class=\"dataframe\">\n",
       "  <thead>\n",
       "    <tr style=\"text-align: right;\">\n",
       "      <th></th>\n",
       "      <th>issue_id</th>\n",
       "      <th>issue_status</th>\n",
       "      <th>issue_key</th>\n",
       "      <th>created_date</th>\n",
       "      <th>resolution_date</th>\n",
       "      <th>issue_type</th>\n",
       "      <th>name_project</th>\n",
       "      <th>bu</th>\n",
       "      <th>priority</th>\n",
       "      <th>resolution</th>\n",
       "      <th>labels</th>\n",
       "      <th>links</th>\n",
       "      <th>parent_id</th>\n",
       "      <th>selected_for_discovery</th>\n",
       "      <th>discovery_done</th>\n",
       "      <th>in_progress</th>\n",
       "      <th>done</th>\n",
       "      <th>dt</th>\n",
       "    </tr>\n",
       "  </thead>\n",
       "  <tbody>\n",
       "    <tr>\n",
       "      <th>0</th>\n",
       "      <td>127489</td>\n",
       "      <td>New Item</td>\n",
       "      <td>TRACKEXP-1919</td>\n",
       "      <td>2022-07-13</td>\n",
       "      <td>NaT</td>\n",
       "      <td>Opportunity</td>\n",
       "      <td>Tracking &amp; Experimentation</td>\n",
       "      <td>CROSS</td>\n",
       "      <td>Medium</td>\n",
       "      <td>Undefined</td>\n",
       "      <td>NaN</td>\n",
       "      <td>NaN</td>\n",
       "      <td>0</td>\n",
       "      <td>NaT</td>\n",
       "      <td>NaT</td>\n",
       "      <td>NaT</td>\n",
       "      <td>NaT</td>\n",
       "      <td>2022-07-13</td>\n",
       "    </tr>\n",
       "    <tr>\n",
       "      <th>1</th>\n",
       "      <td>127488</td>\n",
       "      <td>Inbox</td>\n",
       "      <td>ANV-1725</td>\n",
       "      <td>2022-07-13</td>\n",
       "      <td>NaT</td>\n",
       "      <td>História</td>\n",
       "      <td>ANAPRO</td>\n",
       "      <td>BU_ZAP+</td>\n",
       "      <td>Medium</td>\n",
       "      <td>Undefined</td>\n",
       "      <td>NaN</td>\n",
       "      <td>NaN</td>\n",
       "      <td>0</td>\n",
       "      <td>NaT</td>\n",
       "      <td>NaT</td>\n",
       "      <td>NaT</td>\n",
       "      <td>NaT</td>\n",
       "      <td>2022-07-13</td>\n",
       "    </tr>\n",
       "    <tr>\n",
       "      <th>2</th>\n",
       "      <td>127464</td>\n",
       "      <td>Backlog</td>\n",
       "      <td>DE-925</td>\n",
       "      <td>2022-07-13</td>\n",
       "      <td>NaT</td>\n",
       "      <td>Tech Value</td>\n",
       "      <td>Data Engineering Team</td>\n",
       "      <td>CROSS</td>\n",
       "      <td>Alta</td>\n",
       "      <td>Undefined</td>\n",
       "      <td>NaN</td>\n",
       "      <td>NaN</td>\n",
       "      <td>99063</td>\n",
       "      <td>NaT</td>\n",
       "      <td>NaT</td>\n",
       "      <td>NaT</td>\n",
       "      <td>NaT</td>\n",
       "      <td>2022-07-13</td>\n",
       "    </tr>\n",
       "    <tr>\n",
       "      <th>3</th>\n",
       "      <td>127463</td>\n",
       "      <td>Backlog</td>\n",
       "      <td>DE-924</td>\n",
       "      <td>2022-07-13</td>\n",
       "      <td>NaT</td>\n",
       "      <td>Tech Value</td>\n",
       "      <td>Data Engineering Team</td>\n",
       "      <td>CROSS</td>\n",
       "      <td>Alta</td>\n",
       "      <td>Undefined</td>\n",
       "      <td>NaN</td>\n",
       "      <td>NaN</td>\n",
       "      <td>99063</td>\n",
       "      <td>NaT</td>\n",
       "      <td>NaT</td>\n",
       "      <td>NaT</td>\n",
       "      <td>NaT</td>\n",
       "      <td>2022-07-13</td>\n",
       "    </tr>\n",
       "    <tr>\n",
       "      <th>4</th>\n",
       "      <td>127462</td>\n",
       "      <td>Backlog</td>\n",
       "      <td>DE-923</td>\n",
       "      <td>2022-07-13</td>\n",
       "      <td>NaT</td>\n",
       "      <td>História</td>\n",
       "      <td>Data Engineering Team</td>\n",
       "      <td>CROSS</td>\n",
       "      <td>Alta</td>\n",
       "      <td>Undefined</td>\n",
       "      <td>NaN</td>\n",
       "      <td>NaN</td>\n",
       "      <td>99063</td>\n",
       "      <td>NaT</td>\n",
       "      <td>NaT</td>\n",
       "      <td>NaT</td>\n",
       "      <td>NaT</td>\n",
       "      <td>2022-07-13</td>\n",
       "    </tr>\n",
       "  </tbody>\n",
       "</table>\n",
       "</div>"
      ],
      "text/plain": [
       "   issue_id issue_status      issue_key created_date resolution_date  \\\n",
       "0    127489     New Item  TRACKEXP-1919   2022-07-13             NaT   \n",
       "1    127488        Inbox       ANV-1725   2022-07-13             NaT   \n",
       "2    127464      Backlog         DE-925   2022-07-13             NaT   \n",
       "3    127463      Backlog         DE-924   2022-07-13             NaT   \n",
       "4    127462      Backlog         DE-923   2022-07-13             NaT   \n",
       "\n",
       "    issue_type                name_project       bu priority resolution  \\\n",
       "0  Opportunity  Tracking & Experimentation    CROSS   Medium  Undefined   \n",
       "1     História                      ANAPRO  BU_ZAP+   Medium  Undefined   \n",
       "2   Tech Value       Data Engineering Team    CROSS     Alta  Undefined   \n",
       "3   Tech Value       Data Engineering Team    CROSS     Alta  Undefined   \n",
       "4     História       Data Engineering Team    CROSS     Alta  Undefined   \n",
       "\n",
       "  labels links  parent_id selected_for_discovery discovery_done in_progress  \\\n",
       "0    NaN   NaN          0                    NaT            NaT         NaT   \n",
       "1    NaN   NaN          0                    NaT            NaT         NaT   \n",
       "2    NaN   NaN      99063                    NaT            NaT         NaT   \n",
       "3    NaN   NaN      99063                    NaT            NaT         NaT   \n",
       "4    NaN   NaN      99063                    NaT            NaT         NaT   \n",
       "\n",
       "  done          dt  \n",
       "0  NaT  2022-07-13  \n",
       "1  NaT  2022-07-13  \n",
       "2  NaT  2022-07-13  \n",
       "3  NaT  2022-07-13  \n",
       "4  NaT  2022-07-13  "
      ]
     },
     "execution_count": 57,
     "metadata": {},
     "output_type": "execute_result"
    }
   ],
   "source": [
    "df.head()"
   ]
  },
  {
   "cell_type": "code",
   "execution_count": 58,
   "id": "ce9e7160",
   "metadata": {},
   "outputs": [],
   "source": [
    "df.to_csv('jira_issue.csv',index=False)\n",
    "df.to_parquet('jira_issue.parquet',index=False)"
   ]
  }
 ],
 "metadata": {
  "kernelspec": {
   "display_name": "Python 3 (ipykernel)",
   "language": "python",
   "name": "python3"
  },
  "language_info": {
   "codemirror_mode": {
    "name": "ipython",
    "version": 3
   },
   "file_extension": ".py",
   "mimetype": "text/x-python",
   "name": "python",
   "nbconvert_exporter": "python",
   "pygments_lexer": "ipython3",
   "version": "3.9.7"
  }
 },
 "nbformat": 4,
 "nbformat_minor": 5
}
